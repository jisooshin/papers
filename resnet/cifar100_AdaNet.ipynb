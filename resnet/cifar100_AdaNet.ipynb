{
 "cells": [
  {
   "cell_type": "code",
   "execution_count": 1,
   "metadata": {
    "ExecuteTime": {
     "end_time": "2019-10-09T06:52:26.252107Z",
     "start_time": "2019-10-09T06:52:23.269535Z"
    }
   },
   "outputs": [],
   "source": [
    "import os\n",
    "import sys\n",
    "import math\n",
    "import random\n",
    "import numpy as np\n",
    "import tensorflow as tf\n",
    "from tensorflow import keras\n",
    "from datetime import datetime"
   ]
  },
  {
   "cell_type": "code",
   "execution_count": 2,
   "metadata": {
    "ExecuteTime": {
     "end_time": "2019-10-09T06:52:26.732469Z",
     "start_time": "2019-10-09T06:52:26.728434Z"
    }
   },
   "outputs": [],
   "source": [
    "base_path = os.environ['HOME'] + '/cifar100/AdaNet'\n",
    "if os.path.isdir(base_path):\n",
    "  pass\n",
    "else:\n",
    "  os.mkdir(base_path)"
   ]
  },
  {
   "cell_type": "code",
   "execution_count": 3,
   "metadata": {
    "ExecuteTime": {
     "end_time": "2019-10-09T06:52:28.321876Z",
     "start_time": "2019-10-09T06:52:27.234327Z"
    }
   },
   "outputs": [],
   "source": [
    "data = tf.keras.datasets.cifar100.load_data()\n",
    "\n",
    "train = data[0]\n",
    "test = data[1]\n",
    "\n",
    "train_image, train_label = train[0].astype(np.float32), train[1]\n",
    "test_image, test_label= test[0].astype(np.float32), test[1]\n",
    "\n",
    "train_label = np.reshape(train_label, newshape=[-1])\n",
    "test_label = np.reshape(test_label, newshape=[-1])"
   ]
  },
  {
   "cell_type": "code",
   "execution_count": 4,
   "metadata": {
    "ExecuteTime": {
     "end_time": "2019-10-09T06:52:29.814953Z",
     "start_time": "2019-10-09T06:52:28.831174Z"
    }
   },
   "outputs": [],
   "source": [
    "# Generate Dataset obj   \n",
    "dataset_obj = tf.data.Dataset.from_tensors(\n",
    "    {'image': train_image, 'label': train_label})\n",
    "dataset_obj = dataset_obj.shuffle(50000)\n",
    "dataset_obj = dataset_obj.unbatch()\n",
    "\n",
    "# split train-validation dataset\n",
    "train_dataset = dataset_obj.take(40000)\n",
    "val_dataset = dataset_obj.skip(40000).take(10000)\n",
    "\n",
    "test_dataset = tf.data.Dataset.from_tensors(\n",
    "  {'image': test_image, 'label': test_label})\n",
    "test_dataset = test_dataset.shuffle(10000).unbatch()\n",
    "\n",
    "def _preprocessing(dataset, train_mode):\n",
    "  \"\"\"\n",
    "  While train steps, image will be padded random crop and filped(horizontaly)\n",
    "  And entire steps, per-pixel mean subtracted will be required.\n",
    "  Args:\n",
    "    dataset: 'tf.data.Dataset'\n",
    "    train_mode: 'bool'\n",
    "  Returns:\n",
    "    'tf.data.Dataset'\n",
    "  \"\"\"\n",
    "  if train_mode:\n",
    "    image = dataset['image']\n",
    "    pad = tf.constant([[2, 2], [2, 2], [0, 0]])\n",
    "    image = tf.pad(\n",
    "      tensor=image, paddings=pad)\n",
    "    image = tf.image.random_crop(\n",
    "      value=image, size=[32, 32, 3])\n",
    "    image = tf.image.random_flip_left_right(image=image)\n",
    "  else:\n",
    "    image = dataset['image']\n",
    "    \n",
    "  image = tf.math.subtract(\n",
    "    x=image,\n",
    "    y=tf.reshape(\n",
    "      tf.math.reduce_mean(image, axis=2), shape=[32, 32, 1]))\n",
    "  label = dataset['label']\n",
    "  return (image, label)\n",
    "\n",
    "train_dataset = train_dataset.map(\n",
    "  lambda x: _preprocessing(x, train_mode=True))\n",
    "val_dataset = val_dataset.map(\n",
    "  lambda x: _preprocessing(x, train_mode=False))\n",
    "test_dataset = test_dataset.map(\n",
    "  lambda x: _preprocessing(x, train_mode=False))\n",
    "\n",
    "\n",
    "train_dataset = train_dataset.repeat()\n",
    "val_dataset = val_dataset.repeat()"
   ]
  },
  {
   "cell_type": "code",
   "execution_count": 5,
   "metadata": {
    "ExecuteTime": {
     "end_time": "2019-10-09T06:52:30.344609Z",
     "start_time": "2019-10-09T06:52:30.328595Z"
    }
   },
   "outputs": [],
   "source": [
    "# WEAK LEARNER \n",
    "def residual_block_tensor(x):\n",
    "  identity_x = x\n",
    "  identity_x = keras.layers.Conv2D(\n",
    "    filters=256, kernel_size=[1, 1], strides=1, padding='same')(identity_x)\n",
    "  identity_x = keras.layers.BatchNormalization()(identity_x)\n",
    "  identity_x = keras.layers.ReLU()(identity_x)\n",
    "  \n",
    "  x = keras.layers.Conv2D(\n",
    "    filters=64, kernel_size=[1, 1], strides=1, padding='same')(x)\n",
    "  x = keras.layers.BatchNormalization()(x)\n",
    "  x = keras.layers.ReLU()(x)\n",
    "\n",
    "  x = keras.layers.Conv2D(\n",
    "    filters=64, kernel_size=[3, 3], strides=1, padding='same')(x)\n",
    "  x = keras.layers.BatchNormalization()(x)\n",
    "  x = keras.layers.ReLU()(x)\n",
    "  \n",
    "  x = keras.layers.Conv2D(\n",
    "    filters=256, kernel_size=[1, 1], strides=1, padding='same')(x)\n",
    "  x = keras.layers.BatchNormalization()(x)\n",
    "  x = keras.layers.ReLU()(x)\n",
    "  \n",
    "  x = keras.layers.Add()([x, identity_x])\n",
    "  x = keras.layers.ReLU()(x)\n",
    "  return x\n",
    "\n",
    "\n",
    "# residual block custom layer\n",
    "\n",
    "class ResidualBlock(keras.layers.Layer):\n",
    "  def __init__(self, **kwargs):\n",
    "    super(ResidualBlock, self).__init__()\n",
    "    self.conv_idt = keras.layers.Conv2D(\n",
    "      filters=3, kernel_size=[1, 1], strides=1, padding='same')\n",
    "    self.bn_idt = keras.layers.BatchNormalization()\n",
    "    self.relu_idt = keras.layers.ReLU()\n",
    "    \n",
    "    self.conv_1 = keras.layers.Conv2D(\n",
    "      filters=64, kernel_size=[1, 1], strides=1, padding='same')\n",
    "    self.bn_1 = keras.layers.BatchNormalization()\n",
    "    self.relu_1 = keras.layers.ReLU()\n",
    "    \n",
    "    self.conv_2 = keras.layers.Conv2D(\n",
    "      filters=64, kernel_size=[1, 1], strides=1, padding='same')\n",
    "    self.bn_2 = keras.layers.BatchNormalization()\n",
    "    self.relu_2 = keras.layers.ReLU()\n",
    "    \n",
    "    self.conv_3 = keras.layers.Conv2D(\n",
    "      filters=3, kernel_size=[1, 1], strides=1, padding='same')\n",
    "    self.bn_3 = keras.layers.BatchNormalization()\n",
    "    self.relu_3 = keras.layers.ReLU()\n",
    "    \n",
    "    self.add_last = keras.layers.Add()\n",
    "    self.relu_last = keras.layers.ReLU()\n",
    "    \n",
    "  def call(self, inputs):\n",
    "    idt_x = self.conv_idt(inputs)\n",
    "    idt_x = self.bn_idt(idt_x)\n",
    "    idt_x = self.relu_idt(idt_x)\n",
    "    x = self.conv_1(inputs)\n",
    "    x = self.bn_1(x)\n",
    "    x = self.relu_1(x)\n",
    "    x = self.conv_2(x)\n",
    "    x = self.bn_2(x)\n",
    "    x = self.relu_2(x)\n",
    "    x = self.conv_3(x)\n",
    "    x = self.bn_3(x)\n",
    "    x = self.relu_3(x)\n",
    "    x = self.add_last([x, idt_x])\n",
    "    return self.relu_last(x)\n",
    "    "
   ]
  },
  {
   "cell_type": "code",
   "execution_count": null,
   "metadata": {},
   "outputs": [],
   "source": []
  },
  {
   "cell_type": "code",
   "execution_count": null,
   "metadata": {},
   "outputs": [],
   "source": []
  },
  {
   "cell_type": "code",
   "execution_count": null,
   "metadata": {},
   "outputs": [],
   "source": []
  }
 ],
 "metadata": {
  "kernelspec": {
   "display_name": "Python 3",
   "language": "python",
   "name": "python3"
  },
  "language_info": {
   "codemirror_mode": {
    "name": "ipython",
    "version": 3
   },
   "file_extension": ".py",
   "mimetype": "text/x-python",
   "name": "python",
   "nbconvert_exporter": "python",
   "pygments_lexer": "ipython3",
   "version": "3.6.5"
  },
  "latex_envs": {
   "LaTeX_envs_menu_present": true,
   "autoclose": true,
   "autocomplete": true,
   "bibliofile": "biblio.bib",
   "cite_by": "apalike",
   "current_citInitial": 1,
   "eqLabelWithNumbers": true,
   "eqNumInitial": 1,
   "hotkeys": {
    "equation": "Ctrl-E",
    "itemize": "Ctrl-I"
   },
   "labels_anchors": false,
   "latex_user_defs": false,
   "report_style_numbering": false,
   "user_envs_cfg": false
  },
  "toc": {
   "base_numbering": 1,
   "nav_menu": {},
   "number_sections": true,
   "sideBar": true,
   "skip_h1_title": false,
   "title_cell": "Table of Contents",
   "title_sidebar": "Contents",
   "toc_cell": false,
   "toc_position": {},
   "toc_section_display": true,
   "toc_window_display": false
  },
  "varInspector": {
   "cols": {
    "lenName": 16,
    "lenType": 16,
    "lenVar": 40
   },
   "kernels_config": {
    "python": {
     "delete_cmd_postfix": "",
     "delete_cmd_prefix": "del ",
     "library": "var_list.py",
     "varRefreshCmd": "print(var_dic_list())"
    },
    "r": {
     "delete_cmd_postfix": ") ",
     "delete_cmd_prefix": "rm(",
     "library": "var_list.r",
     "varRefreshCmd": "cat(var_dic_list()) "
    }
   },
   "types_to_exclude": [
    "module",
    "function",
    "builtin_function_or_method",
    "instance",
    "_Feature"
   ],
   "window_display": false
  }
 },
 "nbformat": 4,
 "nbformat_minor": 2
}
