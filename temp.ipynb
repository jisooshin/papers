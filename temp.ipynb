{
 "cells": [
  {
   "cell_type": "code",
   "execution_count": 1,
   "metadata": {
    "ExecuteTime": {
     "end_time": "2019-11-27T07:04:38.437620Z",
     "start_time": "2019-11-27T07:04:37.326781Z"
    }
   },
   "outputs": [],
   "source": [
    "import os\n",
    "\n",
    "import numpy as np\n",
    "\n",
    "import torch\n",
    "import torchvision\n",
    "\n",
    "import torch.nn as nn\n",
    "import torch.optim as optim\n",
    "import torch.nn.functional as F\n",
    "import torchvision.transforms as transforms\n",
    "import torch.distributions as dist\n",
    "\n",
    "from torch.utils.tensorboard import SummaryWriter"
   ]
  },
  {
   "cell_type": "code",
   "execution_count": 3,
   "metadata": {
    "ExecuteTime": {
     "end_time": "2019-11-27T07:22:16.727357Z",
     "start_time": "2019-11-27T07:22:16.705174Z"
    }
   },
   "outputs": [],
   "source": [
    "class Net(nn.Module):\n",
    "  def __init__(self):\n",
    "    super(Net, self).__init__()\n",
    "    self.fc1 = nn.Linear(10, 10)\n",
    "    self.fc2 = nn.Linear(10, 1)\n",
    "  def forward(self, x):\n",
    "    x = self.fc1(x)\n",
    "    x = self.fc2(x)\n",
    "    return x"
   ]
  },
  {
   "cell_type": "code",
   "execution_count": 4,
   "metadata": {
    "ExecuteTime": {
     "end_time": "2019-11-27T07:22:19.611426Z",
     "start_time": "2019-11-27T07:22:19.599111Z"
    }
   },
   "outputs": [],
   "source": [
    "a = Net()"
   ]
  },
  {
   "cell_type": "code",
   "execution_count": 6,
   "metadata": {
    "ExecuteTime": {
     "end_time": "2019-11-27T07:22:25.665619Z",
     "start_time": "2019-11-27T07:22:25.631195Z"
    }
   },
   "outputs": [
    {
     "data": {
      "text/plain": [
       "OrderedDict([('fc1.weight',\n",
       "              tensor([[-0.1706, -0.0693,  0.2451,  0.1571, -0.1886, -0.0547,  0.1544, -0.0265,\n",
       "                       -0.2236,  0.1478],\n",
       "                      [-0.2065,  0.0422,  0.0013,  0.1881, -0.0232, -0.1153,  0.2834, -0.0248,\n",
       "                        0.3069, -0.1725],\n",
       "                      [-0.1847,  0.1047,  0.2160,  0.1431,  0.3077,  0.2041, -0.0144,  0.2053,\n",
       "                       -0.0377,  0.2422],\n",
       "                      [-0.2639, -0.1555,  0.1987,  0.2746, -0.0457,  0.1880,  0.1014,  0.1908,\n",
       "                        0.0134,  0.0283],\n",
       "                      [-0.0582, -0.0103, -0.0863,  0.2555, -0.0546,  0.1496, -0.0124,  0.1775,\n",
       "                        0.2454,  0.3153],\n",
       "                      [ 0.1427,  0.1187,  0.1878,  0.2006,  0.1722,  0.0325,  0.2100, -0.1817,\n",
       "                       -0.2133, -0.0115],\n",
       "                      [ 0.2287, -0.1166, -0.1856,  0.2529,  0.1001, -0.2726, -0.0525, -0.3024,\n",
       "                        0.1736, -0.0530],\n",
       "                      [-0.0445,  0.2918, -0.1695,  0.0401, -0.2552, -0.2553,  0.0335,  0.1398,\n",
       "                        0.1190, -0.1960],\n",
       "                      [-0.1594,  0.2878, -0.2479,  0.2418, -0.0105,  0.1393,  0.0764,  0.2499,\n",
       "                       -0.0193,  0.0610],\n",
       "                      [ 0.0626,  0.2273,  0.0891,  0.0810,  0.2420, -0.0158, -0.0066,  0.2802,\n",
       "                       -0.2904,  0.0369]])),\n",
       "             ('fc1.bias',\n",
       "              tensor([ 0.2465, -0.0289,  0.1126, -0.0429, -0.3090, -0.1213, -0.1801,  0.0772,\n",
       "                       0.2821, -0.0291])),\n",
       "             ('fc2.weight',\n",
       "              tensor([[ 0.1375, -0.0329, -0.2180, -0.1461,  0.1162,  0.0396,  0.2371, -0.2639,\n",
       "                       -0.0158, -0.2276]])),\n",
       "             ('fc2.bias', tensor([0.1401]))])"
      ]
     },
     "execution_count": 6,
     "metadata": {},
     "output_type": "execute_result"
    }
   ],
   "source": [
    "a.state_dict()"
   ]
  },
  {
   "cell_type": "code",
   "execution_count": 7,
   "metadata": {
    "ExecuteTime": {
     "end_time": "2019-11-27T07:22:31.598977Z",
     "start_time": "2019-11-27T07:22:31.596582Z"
    }
   },
   "outputs": [],
   "source": [
    "h_t = a"
   ]
  },
  {
   "cell_type": "code",
   "execution_count": 10,
   "metadata": {
    "ExecuteTime": {
     "end_time": "2019-11-27T08:05:54.244047Z",
     "start_time": "2019-11-27T08:05:54.224047Z"
    }
   },
   "outputs": [],
   "source": [
    "a = torch.tensor([1])"
   ]
  },
  {
   "cell_type": "code",
   "execution_count": 11,
   "metadata": {
    "ExecuteTime": {
     "end_time": "2019-11-27T08:05:55.119176Z",
     "start_time": "2019-11-27T08:05:55.111189Z"
    }
   },
   "outputs": [
    {
     "data": {
      "text/plain": [
       "tensor([1])"
      ]
     },
     "execution_count": 11,
     "metadata": {},
     "output_type": "execute_result"
    }
   ],
   "source": [
    "a"
   ]
  },
  {
   "cell_type": "code",
   "execution_count": 14,
   "metadata": {
    "ExecuteTime": {
     "end_time": "2019-11-27T08:06:24.293347Z",
     "start_time": "2019-11-27T08:06:24.290960Z"
    }
   },
   "outputs": [],
   "source": [
    "a = h_t.fc1.weight"
   ]
  },
  {
   "cell_type": "code",
   "execution_count": 19,
   "metadata": {
    "ExecuteTime": {
     "end_time": "2019-11-27T08:07:44.520517Z",
     "start_time": "2019-11-27T08:07:44.516758Z"
    }
   },
   "outputs": [],
   "source": [
    "cat = torch.Tensor(h_t.fc1.weight)"
   ]
  },
  {
   "cell_type": "code",
   "execution_count": null,
   "metadata": {},
   "outputs": [],
   "source": []
  },
  {
   "cell_type": "code",
   "execution_count": 39,
   "metadata": {
    "ExecuteTime": {
     "end_time": "2019-11-27T08:41:40.664048Z",
     "start_time": "2019-11-27T08:41:40.659772Z"
    }
   },
   "outputs": [],
   "source": [
    "weight1 = torch.randn([3])\n",
    "weight2 = torch.randn([2])\n",
    "weight2 = F.pad(weight2, (0, 1),  mode='constant', value=0)"
   ]
  },
  {
   "cell_type": "code",
   "execution_count": 40,
   "metadata": {
    "ExecuteTime": {
     "end_time": "2019-11-27T08:41:41.328867Z",
     "start_time": "2019-11-27T08:41:41.322747Z"
    }
   },
   "outputs": [
    {
     "data": {
      "text/plain": [
       "tensor([0.2593, 0.5714, 0.4501])"
      ]
     },
     "execution_count": 40,
     "metadata": {},
     "output_type": "execute_result"
    }
   ],
   "source": [
    "torch.add(weight1, weight2)"
   ]
  },
  {
   "cell_type": "code",
   "execution_count": 41,
   "metadata": {
    "ExecuteTime": {
     "end_time": "2019-11-27T08:41:45.689847Z",
     "start_time": "2019-11-27T08:41:45.682914Z"
    }
   },
   "outputs": [
    {
     "data": {
      "text/plain": [
       "tensor([ 0.8774, -1.0699,  0.4501])"
      ]
     },
     "execution_count": 41,
     "metadata": {},
     "output_type": "execute_result"
    }
   ],
   "source": [
    "weight1"
   ]
  },
  {
   "cell_type": "code",
   "execution_count": 42,
   "metadata": {
    "ExecuteTime": {
     "end_time": "2019-11-27T08:41:48.230435Z",
     "start_time": "2019-11-27T08:41:48.225421Z"
    }
   },
   "outputs": [
    {
     "data": {
      "text/plain": [
       "tensor([-0.6181,  1.6413,  0.0000])"
      ]
     },
     "execution_count": 42,
     "metadata": {},
     "output_type": "execute_result"
    }
   ],
   "source": [
    "weight2"
   ]
  },
  {
   "cell_type": "code",
   "execution_count": null,
   "metadata": {},
   "outputs": [],
   "source": []
  }
 ],
 "metadata": {
  "kernelspec": {
   "display_name": "Python 3",
   "language": "python",
   "name": "python3"
  },
  "language_info": {
   "codemirror_mode": {
    "name": "ipython",
    "version": 3
   },
   "file_extension": ".py",
   "mimetype": "text/x-python",
   "name": "python",
   "nbconvert_exporter": "python",
   "pygments_lexer": "ipython3",
   "version": "3.7.4"
  },
  "latex_envs": {
   "LaTeX_envs_menu_present": true,
   "autoclose": true,
   "autocomplete": true,
   "bibliofile": "biblio.bib",
   "cite_by": "apalike",
   "current_citInitial": 1,
   "eqLabelWithNumbers": true,
   "eqNumInitial": 1,
   "hotkeys": {
    "equation": "Ctrl-E",
    "itemize": "Ctrl-I"
   },
   "labels_anchors": false,
   "latex_user_defs": false,
   "report_style_numbering": false,
   "user_envs_cfg": false
  },
  "toc": {
   "base_numbering": 1,
   "nav_menu": {},
   "number_sections": true,
   "sideBar": true,
   "skip_h1_title": false,
   "title_cell": "Table of Contents",
   "title_sidebar": "Contents",
   "toc_cell": false,
   "toc_position": {},
   "toc_section_display": true,
   "toc_window_display": false
  },
  "varInspector": {
   "cols": {
    "lenName": 16,
    "lenType": 16,
    "lenVar": 40
   },
   "kernels_config": {
    "python": {
     "delete_cmd_postfix": "",
     "delete_cmd_prefix": "del ",
     "library": "var_list.py",
     "varRefreshCmd": "print(var_dic_list())"
    },
    "r": {
     "delete_cmd_postfix": ") ",
     "delete_cmd_prefix": "rm(",
     "library": "var_list.r",
     "varRefreshCmd": "cat(var_dic_list()) "
    }
   },
   "types_to_exclude": [
    "module",
    "function",
    "builtin_function_or_method",
    "instance",
    "_Feature"
   ],
   "window_display": false
  }
 },
 "nbformat": 4,
 "nbformat_minor": 2
}
