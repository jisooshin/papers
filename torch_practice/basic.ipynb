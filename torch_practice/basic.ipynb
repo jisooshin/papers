{
 "cells": [
  {
   "cell_type": "code",
   "execution_count": 1,
   "metadata": {
    "ExecuteTime": {
     "end_time": "2019-10-28T03:28:00.453737Z",
     "start_time": "2019-10-28T03:27:59.830339Z"
    }
   },
   "outputs": [],
   "source": [
    "import os\n",
    "\n",
    "import torch\n",
    "import torch.nn as nn\n",
    "import torch.nn.functional as F\n",
    "import torch.optim as optim\n",
    "\n",
    "import torchvision\n",
    "import torchvision.transforms as transforms\n",
    "\n",
    "import matplotlib.pyplot as plt\n",
    "import numpy as np"
   ]
  },
  {
   "cell_type": "code",
   "execution_count": 2,
   "metadata": {
    "ExecuteTime": {
     "end_time": "2019-10-28T03:28:00.459634Z",
     "start_time": "2019-10-28T03:28:00.456546Z"
    }
   },
   "outputs": [],
   "source": [
    "base_path = os.environ['HOME'] + '/cifar10/simpleCNN'\n",
    "if os.path.isdir(base_path):\n",
    "  pass\n",
    "else:\n",
    "  os.makedirs(base_path)"
   ]
  },
  {
   "cell_type": "code",
   "execution_count": 3,
   "metadata": {
    "ExecuteTime": {
     "end_time": "2019-10-28T03:29:01.736838Z",
     "start_time": "2019-10-28T03:28:00.462228Z"
    }
   },
   "outputs": [
    {
     "name": "stdout",
     "output_type": "stream",
     "text": [
      "Downloading https://www.cs.toronto.edu/~kriz/cifar-10-python.tar.gz to /Users/shinjisoo/cifar10/simpleCNN/data/cifar-10-python.tar.gz\n"
     ]
    },
    {
     "name": "stderr",
     "output_type": "stream",
     "text": [
      "100.0%"
     ]
    },
    {
     "name": "stdout",
     "output_type": "stream",
     "text": [
      "Extracting /Users/shinjisoo/cifar10/simpleCNN/data/cifar-10-python.tar.gz to /Users/shinjisoo/cifar10/simpleCNN/data\n",
      "Files already downloaded and verified\n"
     ]
    }
   ],
   "source": [
    "transform = transforms.Compose(\n",
    "    [transforms.ToTensor(),\n",
    "     transforms.Normalize((0.5, 0.5, 0.5), (0.5, 0.5, 0.5))])\n",
    "\n",
    "trainset = torchvision.datasets.CIFAR10(root=base_path + '/data', train=True,\n",
    "                                        download=True, transform=transform)\n",
    "trainloader = torch.utils.data.DataLoader(trainset, batch_size=4,\n",
    "                                          shuffle=True, num_workers=0)\n",
    "\n",
    "testset = torchvision.datasets.CIFAR10(root=base_path + '/data', train=False,\n",
    "                                       download=True, transform=transform)\n",
    "testloader = torch.utils.data.DataLoader(testset, batch_size=4,\n",
    "                                         shuffle=False, num_workers=0)\n",
    "\n",
    "classes = ('plane', 'car', 'bird', 'cat',\n",
    "           'deer', 'dog', 'frog', 'horse', 'ship', 'truck')"
   ]
  },
  {
   "cell_type": "code",
   "execution_count": 4,
   "metadata": {
    "ExecuteTime": {
     "end_time": "2019-10-28T03:29:01.741996Z",
     "start_time": "2019-10-28T03:29:01.738732Z"
    }
   },
   "outputs": [],
   "source": [
    "def imshow(img):\n",
    "  img = img/2+0.5\n",
    "  npimg = img.numpy()\n",
    "  plt.imshow(np.transpose(npimg, (1, 2, 0)))\n",
    "  plt.show"
   ]
  },
  {
   "cell_type": "code",
   "execution_count": 5,
   "metadata": {
    "ExecuteTime": {
     "end_time": "2019-10-28T03:29:01.927808Z",
     "start_time": "2019-10-28T03:29:01.744132Z"
    }
   },
   "outputs": [
    {
     "name": "stdout",
     "output_type": "stream",
     "text": [
      " frog  ship horse  frog\n"
     ]
    },
    {
     "data": {
      "image/png": "[encoded data removed]",
      "text/plain": [
       "<Figure size 432x288 with 1 Axes>"
      ]
     },
     "metadata": {
      "needs_background": "light"
     },
     "output_type": "display_data"
    }
   ],
   "source": [
    "# get some random training images\n",
    "dataiter = iter(trainloader)\n",
    "images, labels = dataiter.next()\n",
    "\n",
    "# show images\n",
    "imshow(torchvision.utils.make_grid(images))\n",
    "# print labels\n",
    "print(' '.join('%5s' % classes[labels[j]] for j in range(4)))"
   ]
  },
  {
   "cell_type": "code",
   "execution_count": 6,
   "metadata": {
    "ExecuteTime": {
     "end_time": "2019-10-28T03:29:01.938907Z",
     "start_time": "2019-10-28T03:29:01.930016Z"
    }
   },
   "outputs": [],
   "source": [
    "class Net(nn.Module):\n",
    "  def __init__(self):\n",
    "    super(Net, self).__init__()\n",
    "    self.conv1 = nn.Conv2d(in_channels=3, out_channels=6, kernel_size=5)\n",
    "    self.pool = nn.MaxPool2d(kernel_size=2, stride=2)\n",
    "    self.conv2 = nn.Conv2d(6, 16, 5)\n",
    "    self.fc1 = nn.Linear(16*5*5, 120)\n",
    "    self.fc2 = nn.Linear(120, 84)\n",
    "    self.fc3 = nn.Linear(84, 10)\n",
    "    \n",
    "  def forward(self, x):\n",
    "    x = self.pool(F.relu(self.conv1(x)))\n",
    "    x = self.pool(F.relu(self.conv2(x)))\n",
    "    x = x.view(-1, 16*5*5)\n",
    "    x = F.relu(self.fc1(x))\n",
    "    x = F.relu(self.fc2(x))\n",
    "    x = F.relu(self.fc3(x))\n",
    "    return x #logit\n",
    "    \n",
    "net = Net()"
   ]
  },
  {
   "cell_type": "code",
   "execution_count": 7,
   "metadata": {
    "ExecuteTime": {
     "end_time": "2019-10-28T03:29:01.946194Z",
     "start_time": "2019-10-28T03:29:01.943046Z"
    }
   },
   "outputs": [],
   "source": [
    "hypothesis = nn.CrossEntropyLoss()\n",
    "optimizer = optim.SGD(net.parameters(), lr=0.01)"
   ]
  },
  {
   "cell_type": "code",
   "execution_count": 8,
   "metadata": {
    "ExecuteTime": {
     "end_time": "2019-10-28T03:35:49.645974Z",
     "start_time": "2019-10-28T03:29:01.949202Z"
    }
   },
   "outputs": [
    {
     "name": "stdout",
     "output_type": "stream",
     "text": [
      "[1, 2000] loss:2.2714589357972144\n",
      "[1, 4000] loss:2.062845400482416\n",
      "[1, 6000] loss:1.9296872891783714\n",
      "[1, 8000] loss:1.7448920100182295\n",
      "[1, 10000] loss:1.6639011654108762\n",
      "[1, 12000] loss:1.5168477007597685\n",
      "[2, 2000] loss:1.4398815391659736\n",
      "[2, 4000] loss:1.4021495780572295\n",
      "[2, 6000] loss:1.3623977253735065\n",
      "[2, 8000] loss:1.3432294687330724\n",
      "[2, 10000] loss:1.3197567183449865\n",
      "[2, 12000] loss:1.3044659230969846\n",
      "[3, 2000] loss:1.2450725867785513\n",
      "[3, 4000] loss:1.2027677887380124\n",
      "[3, 6000] loss:1.2231510136909782\n",
      "[3, 8000] loss:1.2066065395027399\n",
      "[3, 10000] loss:1.1825142965912818\n",
      "[3, 12000] loss:1.1882063397727907\n",
      "[4, 2000] loss:1.102114264825359\n",
      "[4, 4000] loss:1.1059249050579965\n",
      "[4, 6000] loss:1.1335841677673162\n",
      "[4, 8000] loss:1.1005105769708752\n",
      "[4, 10000] loss:1.117434832725674\n",
      "[4, 12000] loss:1.1084162396788597\n",
      "[5, 2000] loss:1.0263993378207088\n",
      "[5, 4000] loss:1.0358832545317709\n",
      "[5, 6000] loss:1.048070839884691\n",
      "[5, 8000] loss:1.049882620960474\n",
      "[5, 10000] loss:1.0491053204843774\n",
      "[5, 12000] loss:1.0522331178076565\n",
      "[6, 2000] loss:0.9713251489787362\n",
      "[6, 4000] loss:0.97298650707677\n",
      "[6, 6000] loss:1.0049268949767574\n",
      "[6, 8000] loss:0.9756481012552977\n",
      "[6, 10000] loss:0.9993734694018495\n",
      "[6, 12000] loss:1.0064472121931614\n",
      "[7, 2000] loss:0.9016426071189344\n",
      "[7, 4000] loss:0.9208082695510238\n",
      "[7, 6000] loss:0.9472661803392693\n",
      "[7, 8000] loss:0.9607953368037706\n",
      "[7, 10000] loss:0.9496478141304106\n",
      "[7, 12000] loss:0.9614250567378476\n",
      "[8, 2000] loss:0.8758041610820219\n",
      "[8, 4000] loss:0.8833826500185532\n",
      "[8, 6000] loss:0.9059545714941923\n",
      "[8, 8000] loss:0.8979503896646202\n",
      "[8, 10000] loss:0.9153893234089483\n",
      "[8, 12000] loss:0.927321122202091\n",
      "[9, 2000] loss:0.8247097243200405\n",
      "[9, 4000] loss:0.8445313294457737\n",
      "[9, 6000] loss:0.8777243786049076\n",
      "[9, 8000] loss:0.8789313387430738\n",
      "[9, 10000] loss:0.8892600683236961\n",
      "[9, 12000] loss:0.8851931279548444\n",
      "[10, 2000] loss:0.7834699137330172\n",
      "[10, 4000] loss:0.79618930813513\n",
      "[10, 6000] loss:0.8385440763093065\n",
      "[10, 8000] loss:0.8532310534496792\n",
      "[10, 10000] loss:0.8636339588861447\n",
      "[10, 12000] loss:0.8778512447805842\n",
      "Finished Training\n"
     ]
    }
   ],
   "source": [
    "for epoch in range(10):The \n",
    "  running_loss = 0.0\n",
    "  \n",
    "  for i, data in enumerate(trainloader, 0):\n",
    "    inputs, labels = data\n",
    "    optimizer.zero_grad()\n",
    "    \n",
    "    outputs = net(inputs)\n",
    "    loss = hypothesis(outputs, labels)\n",
    "    loss.backward()\n",
    "    optimizer.step()\n",
    "    \n",
    "    running_loss += loss.item()\n",
    "    if i % 2000 == 1999:\n",
    "      print(\"[{}, {}] loss:{}\".format(epoch+1, i+1, running_loss/2000))\n",
    "      running_loss = 0.0\n",
    "print('Finished Training')"
   ]
  },
  {
   "cell_type": "code",
   "execution_count": 9,
   "metadata": {
    "ExecuteTime": {
     "end_time": "2019-10-28T03:35:49.661804Z",
     "start_time": "2019-10-28T03:35:49.648042Z"
    }
   },
   "outputs": [
    {
     "name": "stderr",
     "output_type": "stream",
     "text": [
      "/usr/local/lib/python3.7/site-packages/torch/serialization.py:292: UserWarning: Couldn't retrieve source code for container of type Net. It won't be checked for correctness upon loading.\n",
      "  \"type \" + obj.__name__ + \". It won't be checked \"\n",
      "/usr/local/lib/python3.7/site-packages/torch/serialization.py:292: UserWarning: Couldn't retrieve source code for container of type Conv2d. It won't be checked for correctness upon loading.\n",
      "  \"type \" + obj.__name__ + \". It won't be checked \"\n",
      "/usr/local/lib/python3.7/site-packages/torch/serialization.py:292: UserWarning: Couldn't retrieve source code for container of type MaxPool2d. It won't be checked for correctness upon loading.\n",
      "  \"type \" + obj.__name__ + \". It won't be checked \"\n",
      "/usr/local/lib/python3.7/site-packages/torch/serialization.py:292: UserWarning: Couldn't retrieve source code for container of type Linear. It won't be checked for correctness upon loading.\n",
      "  \"type \" + obj.__name__ + \". It won't be checked \"\n"
     ]
    }
   ],
   "source": [
    "PATH = base_path + '/simpleCNN.pt'\n",
    "torch.save(net, PATH)"
   ]
  },
  {
   "cell_type": "code",
   "execution_count": 10,
   "metadata": {
    "ExecuteTime": {
     "end_time": "2019-10-28T03:35:49.847948Z",
     "start_time": "2019-10-28T03:35:49.663812Z"
    }
   },
   "outputs": [
    {
     "name": "stdout",
     "output_type": "stream",
     "text": [
      "Ground truth: ['cat', 'ship', 'ship', 'plane']\n"
     ]
    },
    {
     "data": {
      "image/png": "[encoded data removed]",
      "text/plain": [
       "<Figure size 432x288 with 1 Axes>"
      ]
     },
     "metadata": {
      "needs_background": "light"
     },
     "output_type": "display_data"
    }
   ],
   "source": [
    "test_dataiter = iter(testloader)\n",
    "images, labels = test_dataiter.next()\n",
    "\n",
    "imshow(torchvision.utils.make_grid(images))\n",
    "print('Ground truth: {}'.format([classes[label] for label in labels]))"
   ]
  },
  {
   "cell_type": "code",
   "execution_count": 11,
   "metadata": {
    "ExecuteTime": {
     "end_time": "2019-10-28T03:35:49.856164Z",
     "start_time": "2019-10-28T03:35:49.851193Z"
    }
   },
   "outputs": [
    {
     "name": "stdout",
     "output_type": "stream",
     "text": [
      "Predicted: ['cat', 'car', 'ship', 'plane']\n"
     ]
    }
   ],
   "source": [
    "outputs = net(images)\n",
    "_, predicted = torch.max(outputs, 1)\n",
    "\n",
    "print('Predicted: {}'.format([classes[label] for label in predicted]))"
   ]
  },
  {
   "cell_type": "code",
   "execution_count": 12,
   "metadata": {
    "ExecuteTime": {
     "end_time": "2019-10-28T03:35:56.543025Z",
     "start_time": "2019-10-28T03:35:49.858252Z"
    }
   },
   "outputs": [
    {
     "name": "stdout",
     "output_type": "stream",
     "text": [
      "Accuracy:60.87%\n",
      "Accuracy of plane : 60 %\n",
      "Accuracy of   car : 76 %\n",
      "Accuracy of  bird : 29 %\n",
      "Accuracy of   cat : 43 %\n",
      "Accuracy of  deer : 64 %\n",
      "Accuracy of   dog : 49 %\n",
      "Accuracy of  frog : 65 %\n",
      "Accuracy of horse : 74 %\n",
      "Accuracy of  ship : 70 %\n",
      "Accuracy of truck : 74 %\n"
     ]
    }
   ],
   "source": [
    "correct = 0\n",
    "total = 0\n",
    "\n",
    "with torch.no_grad():\n",
    "  for data in testloader:\n",
    "    images, labels = data\n",
    "    outputs = net(images)\n",
    "    _, predicted = torch.max(outputs.data, 1)\n",
    "    total += labels.size(0)\n",
    "    correct += (predicted == labels).sum().item()\n",
    "print('Accuracy:{}%'.format(100*correct/total))\n",
    "\n",
    "class_correct = list(0. for i in range(10))\n",
    "class_total = list(0. for i in range(10))\n",
    "with torch.no_grad():\n",
    "    for data in testloader:\n",
    "        images, labels = data\n",
    "        outputs = net(images)\n",
    "        _, predicted = torch.max(outputs, 1)\n",
    "        c = (predicted == labels).squeeze()\n",
    "        for i in range(4):\n",
    "            label = labels[i]\n",
    "            class_correct[label] += c[i].item()\n",
    "            class_total[label] += 1\n",
    "\n",
    "\n",
    "for i in range(10):\n",
    "    print('Accuracy of %5s : %2d %%' % (\n",
    "        classes[i], 100 * class_correct[i] / class_total[i]))\n"
   ]
  },
  {
   "cell_type": "code",
   "execution_count": 13,
   "metadata": {
    "ExecuteTime": {
     "end_time": "2019-10-28T03:35:56.696530Z",
     "start_time": "2019-10-28T03:35:56.545119Z"
    }
   },
   "outputs": [
    {
     "name": "stdout",
     "output_type": "stream",
     "text": [
      "tensor([3, 1, 8, 0]) \b tensor([3, 8, 8, 0])\n"
     ]
    },
    {
     "data": {
      "image/png": "[encoded data removed]",
      "text/plain": [
       "<Figure size 432x288 with 1 Axes>"
      ]
     },
     "metadata": {
      "needs_background": "light"
     },
     "output_type": "display_data"
    }
   ],
   "source": [
    "PATH = base_path + '/simpleCNN.pt'\n",
    "the_model = torch.load(PATH)\n",
    "\n",
    "images, labels = next(iter(testloader))\n",
    "_, predicted = torch.max(the_model(images), 1)\n",
    "print(predicted, \"\\b\", labels)\n",
    "imshow(torchvision.utils.make_grid(images))"
   ]
  },
  {
   "cell_type": "code",
   "execution_count": null,
   "metadata": {},
   "outputs": [],
   "source": []
  }
 ],
 "metadata": {
  "kernelspec": {
   "display_name": "Python 3",
   "language": "python",
   "name": "python3"
  },
  "language_info": {
   "codemirror_mode": {
    "name": "ipython",
    "version": 3
   },
   "file_extension": ".py",
   "mimetype": "text/x-python",
   "name": "python",
   "nbconvert_exporter": "python",
   "pygments_lexer": "ipython3",
   "version": "3.7.4"
  },
  "latex_envs": {
   "LaTeX_envs_menu_present": true,
   "autoclose": true,
   "autocomplete": true,
   "bibliofile": "biblio.bib",
   "cite_by": "apalike",
   "current_citInitial": 1,
   "eqLabelWithNumbers": true,
   "eqNumInitial": 1,
   "hotkeys": {
    "equation": "Ctrl-E",
    "itemize": "Ctrl-I"
   },
   "labels_anchors": false,
   "latex_user_defs": false,
   "report_style_numbering": false,
   "user_envs_cfg": false
  },
  "toc": {
   "base_numbering": 1,
   "nav_menu": {},
   "number_sections": true,
   "sideBar": true,
   "skip_h1_title": false,
   "title_cell": "Table of Contents",
   "title_sidebar": "Contents",
   "toc_cell": false,
   "toc_position": {},
   "toc_section_display": true,
   "toc_window_display": false
  },
  "varInspector": {
   "cols": {
    "lenName": 16,
    "lenType": 16,
    "lenVar": 40
   },
   "kernels_config": {
    "python": {
     "delete_cmd_postfix": "",
     "delete_cmd_prefix": "del ",
     "library": "var_list.py",
     "varRefreshCmd": "print(var_dic_list())"
    },
    "r": {
     "delete_cmd_postfix": ") ",
     "delete_cmd_prefix": "rm(",
     "library": "var_list.r",
     "varRefreshCmd": "cat(var_dic_list()) "
    }
   },
   "types_to_exclude": [
    "module",
    "function",
    "builtin_function_or_method",
    "instance",
    "_Feature"
   ],
   "window_display": false
  }
 },
 "nbformat": 4,
 "nbformat_minor": 2
}
